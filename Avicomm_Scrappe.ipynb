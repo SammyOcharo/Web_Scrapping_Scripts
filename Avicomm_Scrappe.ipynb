{
 "cells": [
  {
   "cell_type": "code",
   "execution_count": 91,
   "metadata": {},
   "outputs": [],
   "source": [
    "from bs4 import BeautifulSoup as Soup\n",
    "import requests\n",
    "my_url = 'https://www.avicomm.co.ke/'"
   ]
  },
  {
   "cell_type": "code",
   "execution_count": 94,
   "metadata": {},
   "outputs": [],
   "source": [
    "page_html = requests.get(my_url).text\n",
    "page_soup = Soup(page_html, 'html.parser')"
   ]
  },
  {
   "cell_type": "code",
   "execution_count": 96,
   "metadata": {},
   "outputs": [
    {
     "name": "stdout",
     "output_type": "stream",
     "text": [
      "Samsung Galaxy A11 32GB|2GB – Dual SIM\n",
      "15000\n",
      "13499\n"
     ]
    }
   ],
   "source": [
    "items = page_soup.findAll(\"div\", {\"class\":\"product-content\"})\n",
    "#items[0]\n",
    "print(items[0].find(\"h3\").get_text())\n",
    "print(items[0].find(\"bdi\").get_text().split(\"h\")[1].replace(\",\", \"\"))\n",
    "print(items[0].span.get_text().split(\" \")[1].split(\"h\")[1].replace(\",\", \"\"))"
   ]
  },
  {
   "cell_type": "code",
   "execution_count": 97,
   "metadata": {},
   "outputs": [
    {
     "data": {
      "text/plain": [
       "36"
      ]
     },
     "execution_count": 97,
     "metadata": {},
     "output_type": "execute_result"
    }
   ],
   "source": [
    "Product_name =[item.find(\"h3\").get_text() for item in items]\n",
    "len (Product_name)"
   ]
  },
  {
   "cell_type": "code",
   "execution_count": 98,
   "metadata": {},
   "outputs": [
    {
     "name": "stdout",
     "output_type": "stream",
     "text": [
      "['15000', '22299', '10000', '28000', '32999', '45299', '13999', '18000', '117999', '64999', '18000', '50000', '29000', '68000', '39000', '60000', '8000', '12000', '75000', '15999', '235000', '17000', '12499', '11000', '5000', '10000', '35000', '13999', '38000', '70000', '13499', '36999', '14999', '8000', '14000', '36999']\n"
     ]
    }
   ],
   "source": [
    "try:\n",
    "    previous_amount =[item.find(\"bdi\").get_text().split(\"h\")[1].replace(\",\", \"\") for item in items]\n",
    "    print (previous_amount)\n",
    "except:\n",
    "    pass"
   ]
  },
  {
   "cell_type": "code",
   "execution_count": 100,
   "metadata": {},
   "outputs": [
    {
     "data": {
      "text/plain": [
       "['Samsung Galaxy A11 32GB|2GB – Dual SIM',\n",
       " 'Samsung Galaxy A21s 64GB|4GB – Dual SIM',\n",
       " 'Samsung Galaxy A3 Core 16GB|1GB – Dual SIM',\n",
       " 'Samsung Galaxy A31 128GB|4GB – Dual SIM',\n",
       " 'Samsung Galaxy A51 128GB|4GB – Dual SIM',\n",
       " 'Samsung Galaxy A71 128GB|6GB – Dual SIM',\n",
       " 'Samsung Galaxy Buds Live',\n",
       " 'Samsung Galaxy M11 32GB|3GB – Dual SIM',\n",
       " 'Samsung Galaxy Note 20 Ultra 256GB|8GB – Dual SIM',\n",
       " 'Samsung Galaxy S20 FE 128GB|6GB – Dual SIM',\n",
       " 'Samsung Galaxy Tab A 8.0″ 2019 32GB|2GB',\n",
       " 'Samsung Galaxy Tab S6 Lite 64GB|4GB',\n",
       " 'TCL 40″ | 40S68A Frame-Less FHD | Smart Android | LED TV',\n",
       " 'JBL Partybox 300',\n",
       " 'BlackBerry Evolve 64GB|4GB – Dual SIM',\n",
       " 'PlayStation 4 Pro 1TB Console',\n",
       " 'JBL Clip 3',\n",
       " 'Realme C11 32GB|2GB – Dual SIM',\n",
       " 'JBL Bar 5.1 Surround',\n",
       " 'Realme C15 – Dual SIM',\n",
       " 'Samsung Galaxy Z Fold 2 5G – 256GB|12GB',\n",
       " 'Xiaomi Redmi 9c 32GB|2GB',\n",
       " 'Nokia 2.4 Dual SIM',\n",
       " 'Huawei Y5p 32GB|2GB',\n",
       " 'JBL Tune 110BT',\n",
       " 'JBL Tune 600BTNC',\n",
       " 'Realme 6 128GB|8GB – Dual SIM',\n",
       " 'VIVO Y11 32GB|3GB – Dual SIM',\n",
       " 'Bose QuietComfort 35 wireless headphones II',\n",
       " 'OnePlus Nord 5G 256GB|12GB',\n",
       " 'JBL Charge 4',\n",
       " 'Apple Watch SE – GPS',\n",
       " 'Bose Soundsport Wireless Headphone',\n",
       " 'Nokia 5310 Dual SIM',\n",
       " 'Lenovo Tab E7 – 7.0″ – 16GB|1GB',\n",
       " 'iPhone 7 32GB',\n",
       " '15000',\n",
       " '22299',\n",
       " '10000',\n",
       " '28000',\n",
       " '32999',\n",
       " '45299',\n",
       " '13999',\n",
       " '18000',\n",
       " '117999',\n",
       " '64999',\n",
       " '18000',\n",
       " '50000',\n",
       " '29000',\n",
       " '68000',\n",
       " '39000',\n",
       " '60000',\n",
       " '8000',\n",
       " '12000',\n",
       " '75000',\n",
       " '15999',\n",
       " '235000',\n",
       " '17000',\n",
       " '12499',\n",
       " '11000',\n",
       " '5000',\n",
       " '10000',\n",
       " '35000',\n",
       " '13999',\n",
       " '38000',\n",
       " '70000',\n",
       " '13499',\n",
       " '36999',\n",
       " '14999',\n",
       " '8000',\n",
       " '14000',\n",
       " '36999']"
      ]
     },
     "execution_count": 100,
     "metadata": {},
     "output_type": "execute_result"
    }
   ],
   "source": [
    "list_products"
   ]
  },
  {
   "cell_type": "code",
   "execution_count": 101,
   "metadata": {},
   "outputs": [
    {
     "data": {
      "text/plain": [
       "'13999'"
      ]
     },
     "execution_count": 101,
     "metadata": {},
     "output_type": "execute_result"
    }
   ],
   "source": [
    "span = page_soup.findAll(\"span\", {\"class\":\"price\"})\n",
    "span[6].get_text().replace(\"–\", \"\").split(\" \")[0].split(\"h\")[1].replace(\",\", \"\")"
   ]
  },
  {
   "cell_type": "code",
   "execution_count": 102,
   "metadata": {},
   "outputs": [
    {
     "name": "stdout",
     "output_type": "stream",
     "text": [
      "[{'Samsung Galaxy A11 32GB|2GB – Dual SIM': '15000', 'Samsung Galaxy A21s 64GB|4GB – Dual SIM': '22299', 'Samsung Galaxy A3 Core 16GB|1GB – Dual SIM': '10000', 'Samsung Galaxy A31 128GB|4GB – Dual SIM': '28000', 'Samsung Galaxy A51 128GB|4GB – Dual SIM': '32999', 'Samsung Galaxy A71 128GB|6GB – Dual SIM': '45299', 'Samsung Galaxy Buds Live': '13999', 'Samsung Galaxy M11 32GB|3GB – Dual SIM': '18000', 'Samsung Galaxy Note 20 Ultra 256GB|8GB – Dual SIM': '117999', 'Samsung Galaxy S20 FE 128GB|6GB – Dual SIM': '64999', 'Samsung Galaxy Tab A 8.0″ 2019 32GB|2GB': '18000', 'Samsung Galaxy Tab S6 Lite 64GB|4GB': '50000', 'TCL 40″ | 40S68A Frame-Less FHD | Smart Android | LED TV': '29000', 'JBL Partybox 300': '68000', 'BlackBerry Evolve 64GB|4GB – Dual SIM': '39000', 'PlayStation 4 Pro 1TB Console': '60000', 'JBL Clip 3': '8000', 'Realme C11 32GB|2GB – Dual SIM': '12000', 'JBL Bar 5.1 Surround': '75000', 'Realme C15 – Dual SIM': '15999', 'Samsung Galaxy Z Fold 2 5G – 256GB|12GB': '235000', 'Xiaomi Redmi 9c 32GB|2GB': '17000', 'Nokia 2.4 Dual SIM': '12499', 'Huawei Y5p 32GB|2GB': '11000', 'JBL Tune 110BT': '5000', 'JBL Tune 600BTNC': '10000', 'Realme 6 128GB|8GB – Dual SIM': '35000', 'VIVO Y11 32GB|3GB – Dual SIM': '13999', 'Bose QuietComfort 35 wireless headphones II': '38000', 'OnePlus Nord 5G 256GB|12GB': '70000', 'JBL Charge 4': '13499', 'Apple Watch SE – GPS': '36999', 'Bose Soundsport Wireless Headphone': '14999', 'Nokia 5310 Dual SIM': '8000', 'Lenovo Tab E7 – 7.0″ – 16GB|1GB': '14000', 'iPhone 7 32GB': '36999'}]\n"
     ]
    }
   ],
   "source": [
    "final_list = []\n",
    "dictionary = dict(zip(Product_name, previous_amount))\n",
    "final_list.append(dictionary)\n",
    "print(final_list)"
   ]
  },
  {
   "cell_type": "code",
   "execution_count": 103,
   "metadata": {},
   "outputs": [],
   "source": [
    "import pandas as pd\n",
    "phone_list = pd.DataFrame(final_list) \n",
    "phone_list"
   ]
  },
  {
   "cell_type": "code",
   "execution_count": 107,
   "metadata": {},
   "outputs": [],
   "source": [
    "final_list = {}\n",
    "for name in Product_name:\n",
    "    for value in previous_amount:\n",
    "        final_list[name] = value\n",
    "        previous_amount.remove(value)\n",
    "        break"
   ]
  },
  {
   "cell_type": "code",
   "execution_count": 110,
   "metadata": {},
   "outputs": [
    {
     "data": {
      "text/plain": [
       "{'Samsung Galaxy A11 32GB|2GB – Dual SIM': '15000',\n",
       " 'Samsung Galaxy A21s 64GB|4GB – Dual SIM': '22299',\n",
       " 'Samsung Galaxy A3 Core 16GB|1GB – Dual SIM': '10000',\n",
       " 'Samsung Galaxy A31 128GB|4GB – Dual SIM': '28000',\n",
       " 'Samsung Galaxy A51 128GB|4GB – Dual SIM': '32999',\n",
       " 'Samsung Galaxy A71 128GB|6GB – Dual SIM': '45299',\n",
       " 'Samsung Galaxy Buds Live': '13999',\n",
       " 'Samsung Galaxy M11 32GB|3GB – Dual SIM': '18000',\n",
       " 'Samsung Galaxy Note 20 Ultra 256GB|8GB – Dual SIM': '117999',\n",
       " 'Samsung Galaxy S20 FE 128GB|6GB – Dual SIM': '64999',\n",
       " 'Samsung Galaxy Tab A 8.0″ 2019 32GB|2GB': '18000',\n",
       " 'Samsung Galaxy Tab S6 Lite 64GB|4GB': '50000',\n",
       " 'TCL 40″ | 40S68A Frame-Less FHD | Smart Android | LED TV': '29000',\n",
       " 'JBL Partybox 300': '68000',\n",
       " 'BlackBerry Evolve 64GB|4GB – Dual SIM': '39000',\n",
       " 'PlayStation 4 Pro 1TB Console': '60000',\n",
       " 'JBL Clip 3': '8000',\n",
       " 'Realme C11 32GB|2GB – Dual SIM': '12000',\n",
       " 'JBL Bar 5.1 Surround': '75000',\n",
       " 'Realme C15 – Dual SIM': '15999',\n",
       " 'Samsung Galaxy Z Fold 2 5G – 256GB|12GB': '235000',\n",
       " 'Xiaomi Redmi 9c 32GB|2GB': '17000',\n",
       " 'Nokia 2.4 Dual SIM': '12499',\n",
       " 'Huawei Y5p 32GB|2GB': '11000',\n",
       " 'JBL Tune 110BT': '5000',\n",
       " 'JBL Tune 600BTNC': '10000',\n",
       " 'Realme 6 128GB|8GB – Dual SIM': '35000',\n",
       " 'VIVO Y11 32GB|3GB – Dual SIM': '13999',\n",
       " 'Bose QuietComfort 35 wireless headphones II': '38000',\n",
       " 'OnePlus Nord 5G 256GB|12GB': '70000',\n",
       " 'JBL Charge 4': '13499',\n",
       " 'Apple Watch SE – GPS': '36999',\n",
       " 'Bose Soundsport Wireless Headphone': '14999',\n",
       " 'Nokia 5310 Dual SIM': '8000',\n",
       " 'Lenovo Tab E7 – 7.0″ – 16GB|1GB': '14000',\n",
       " 'iPhone 7 32GB': '36999'}"
      ]
     },
     "execution_count": 110,
     "metadata": {},
     "output_type": "execute_result"
    }
   ],
   "source": [
    "final_list"
   ]
  },
  {
   "cell_type": "code",
   "execution_count": 179,
   "metadata": {},
   "outputs": [],
   "source": [
    "All_products= pd.DataFrame.from_records([{ 'name':Product_name,'amount':previous_amount }], index=[0])\n",
    "All_products = all_products.T"
   ]
  },
  {
   "cell_type": "markdown",
   "metadata": {},
   "source": [
    "All_products.columns = ['amount']\n",
    "All_products"
   ]
  },
  {
   "cell_type": "code",
   "execution_count": 182,
   "metadata": {},
   "outputs": [],
   "source": [
    "All_products.to_csv('products.csv', index= True)"
   ]
  },
  {
   "cell_type": "code",
   "execution_count": null,
   "metadata": {},
   "outputs": [],
   "source": []
  }
 ],
 "metadata": {
  "kernelspec": {
   "display_name": "Python 3",
   "language": "python",
   "name": "python3"
  },
  "language_info": {
   "codemirror_mode": {
    "name": "ipython",
    "version": 3
   },
   "file_extension": ".py",
   "mimetype": "text/x-python",
   "name": "python",
   "nbconvert_exporter": "python",
   "pygments_lexer": "ipython3",
   "version": "3.6.10"
  }
 },
 "nbformat": 4,
 "nbformat_minor": 2
}
